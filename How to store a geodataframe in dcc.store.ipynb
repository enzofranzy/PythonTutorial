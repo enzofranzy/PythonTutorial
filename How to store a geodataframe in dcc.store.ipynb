{
 "cells": [
  {
   "cell_type": "code",
   "execution_count": 1,
   "id": "783eae6b-c512-4999-87ab-b8957130ddc6",
   "metadata": {},
   "outputs": [],
   "source": [
    "import pandas as pd\n",
    "import requests\n",
    "import json\n",
    "import geopandas as gpd\n",
    "from geopy.distance import distance #6"
   ]
  },
  {
   "cell_type": "code",
   "execution_count": 2,
   "id": "28e50bd1-b71e-4f69-84b0-6a37d04c46ac",
   "metadata": {},
   "outputs": [],
   "source": [
    "dataestimation = {'adresse': '10 Rue Barla 06300 Nice', 'housenumber': '10', 'coordinate': [7.282298, 43.701961], 'ville': 'Nice', 'citycode': '06088', 'codepostal': '06300', 'nbpièces': 4, 'nbsdb': 1, 'nbniveaux': 0, 'typedebien': 'Maison', 'surface': 85, 'surfaceterrain': 300, 'etatdubien': 'Standard', 'luminosité': 'Standard', 'calme': 'Standard', 'toiture': 'Standard', 'chauffage': '0'}"
   ]
  },
  {
   "cell_type": "code",
   "execution_count": 3,
   "id": "55824cab-693a-49b0-9292-a1f9886ad41e",
   "metadata": {},
   "outputs": [],
   "source": [
    "def APIEcoles(dataestimation, radius):  # radius 0.04\n",
    "    lon = dataestimation[\"coordinate\"][0];\n",
    "    lat = dataestimation[\"coordinate\"][1]\n",
    "    url = f\"https://data.education.gouv.fr/api/explore/v2.1/catalog/datasets/fr-en-adresse-et-geolocalisation-etablissements-premier-et-second-degre/records?select=numero_uai%2Cappellation_officielle%2Csecteur_public_prive_libe%2Cadresse_uai%2Ccode_postal_uai%2Clibelle_commune%2Clatitude%2Clongitude%2Cnature_uai_libe%2Ccode_commune%2Clibelle_academie%2Cpatronyme_uai&where=longitude%20>%20{lon - radius}%20AND%20longitude%20<%20{lon + radius}%20AND%20latitude%20>%20{lat - radius}%20AND%20latitude%20<%20{lat + radius}&limit=100&offset=0\"\n",
    "    headers = {\n",
    "        'Accept': 'application/json',\n",
    "    }\n",
    "    response = requests.get(url, headers=headers)\n",
    "    if response.status_code == 200:\n",
    "        compteur = (response.json()[\"total_count\"] - 1) // 100\n",
    "        df = pd.DataFrame(response.json()[\"results\"])\n",
    "        if compteur > 0:\n",
    "            for i in range(1, compteur + 1):\n",
    "                url_ = f\"https://data.education.gouv.fr/api/explore/v2.1/catalog/datasets/fr-en-adresse-et-geolocalisation-etablissements-premier-et-second-degre/records?select=numero_uai%2Cappellation_officielle%2Csecteur_public_prive_libe%2Cadresse_uai%2Ccode_postal_uai%2Clibelle_commune%2Clatitude%2Clongitude%2Cnature_uai_libe%2Ccode_commune%2Clibelle_academie%2Cpatronyme_uai&where=longitude%20>%20{lon - radius}%20AND%20longitude%20<%20{lon + radius}%20AND%20latitude%20>%20{lat - radius}%20AND%20latitude%20<%20{lat + radius}&limit=100&offset={i * 100}\"\n",
    "                response_ = requests.get(url_, headers=headers)\n",
    "                if response_.status_code == 200:\n",
    "                    df_ = pd.DataFrame(response_.json()[\"results\"])\n",
    "                    df = pd.concat([df, df_])\n",
    "                    df = df.reset_index(drop=True)\n",
    "\n",
    "    # Mise en forme du dataframe\n",
    "    df[\"adresse_uai\"] = df[\"adresse_uai\"] + \", \" + df[\"code_postal_uai\"] + \" \" + df[\"libelle_commune\"]\n",
    "    df = gpd.GeoDataFrame(df, geometry=gpd.points_from_xy(df['longitude'], df['latitude']))\n",
    "    df = df.drop(columns=['numero_uai', 'code_postal_uai', 'code_commune', 'patronyme_uai', 'latitude', 'longitude'])\n",
    "    df['distance'] = round(df['geometry'].apply(lambda x: distance((x.x, x.y), dataestimation[\"coordinate\"]).meters),\n",
    "                           0).astype('int')  # Fonction pour calculer les distances\n",
    "    df = df.sort_values(\"distance\", ascending=True)\n",
    "\n",
    "    # Mise à jour # Replace value in a list\n",
    "    l = list(df[\"nature_uai_libe\"])\n",
    "    for i in range(len(l)):\n",
    "        if l[i] == 'ECOLE DE NIVEAU ELEMENTAIRE':\n",
    "            l[i] = 'ECOLE PRIMAIRE'\n",
    "        if l[i] == 'ECOLE MATERNELLE':\n",
    "            l[i] = 'ECOLE MATERNELLE'\n",
    "        if l[i] == 'COLLEGE':\n",
    "            l[i] = 'COLLEGE'\n",
    "        if l[i] == 'LYCEE PROFESSIONNEL':\n",
    "            l[i] = 'LYCEE'\n",
    "        if l[i] == 'LYCEE ENSEIGNT GENERAL ET TECHNOLOGIQUE':\n",
    "            l[i] = 'LYCEE'\n",
    "        if l[i] == 'SECTION ENSEIGNT GEN. ET PROF. ADAPTE':\n",
    "            l[i] = ''\n",
    "        if l[i] == 'LYCEE POLYVALENT':\n",
    "            l[i] = 'LYCEE'\n",
    "        if l[i] == 'SECTION D ENSEIGNEMENT PROFESSIONNEL':\n",
    "            l[i] = ''\n",
    "        if l[i] == 'LYCEE D ENSEIGNEMENT GENERAL':\n",
    "            l[i] = 'LYCEE'\n",
    "        if l[i] == 'ECOLE DE NIVEAU ELEMENTAIRE SPECIALISEE':\n",
    "            l[i] = ''\n",
    "        if l[i] == 'SECTION ENSEIGT GENERAL ET TECHNOLOGIQUE':\n",
    "            l[i] = ''\n",
    "        if l[i] == 'LYCEE D ENSEIGNEMENT TECHNOLOGIQUE':\n",
    "            l[i] = 'LYCEE'\n",
    "\n",
    "    df[\"nature_uai_libe\"] = l  # refaire le dataframe\n",
    "    df = df[df[\"nature_uai_libe\"] != '']  # supprimer les vides\n",
    "    return df"
   ]
  },
  {
   "cell_type": "code",
   "execution_count": 4,
   "id": "9f90c08a-c978-4219-a35d-545e4617e7f7",
   "metadata": {},
   "outputs": [],
   "source": [
    "df = APIEcoles(dataestimation, 0.04)"
   ]
  },
  {
   "cell_type": "code",
   "execution_count": 5,
   "id": "21e7851a-a179-45ff-af2b-6894ed72a8c9",
   "metadata": {},
   "outputs": [
    {
     "data": {
      "text/html": [
       "<div>\n",
       "<style scoped>\n",
       "    .dataframe tbody tr th:only-of-type {\n",
       "        vertical-align: middle;\n",
       "    }\n",
       "\n",
       "    .dataframe tbody tr th {\n",
       "        vertical-align: top;\n",
       "    }\n",
       "\n",
       "    .dataframe thead th {\n",
       "        text-align: right;\n",
       "    }\n",
       "</style>\n",
       "<table border=\"1\" class=\"dataframe\">\n",
       "  <thead>\n",
       "    <tr style=\"text-align: right;\">\n",
       "      <th></th>\n",
       "      <th>appellation_officielle</th>\n",
       "      <th>secteur_public_prive_libe</th>\n",
       "      <th>adresse_uai</th>\n",
       "      <th>libelle_commune</th>\n",
       "      <th>nature_uai_libe</th>\n",
       "      <th>libelle_academie</th>\n",
       "      <th>geometry</th>\n",
       "      <th>distance</th>\n",
       "    </tr>\n",
       "  </thead>\n",
       "  <tbody>\n",
       "    <tr>\n",
       "      <th>178</th>\n",
       "      <td>Ecole primaire privée Saint Joseph</td>\n",
       "      <td>Privé</td>\n",
       "      <td>14 rue Barla, 06300 Nice</td>\n",
       "      <td>Nice</td>\n",
       "      <td>ECOLE PRIMAIRE</td>\n",
       "      <td>Nice</td>\n",
       "      <td>POINT (7.28258 43.70187)</td>\n",
       "      <td>33</td>\n",
       "    </tr>\n",
       "    <tr>\n",
       "      <th>19</th>\n",
       "      <td>Lycée général et technologique privé Saint Joseph</td>\n",
       "      <td>Privé</td>\n",
       "      <td>14  RUE BARLA, 06300 Nice</td>\n",
       "      <td>Nice</td>\n",
       "      <td>LYCEE</td>\n",
       "      <td>Nice</td>\n",
       "      <td>POINT (7.28275 43.70176)</td>\n",
       "      <td>55</td>\n",
       "    </tr>\n",
       "    <tr>\n",
       "      <th>169</th>\n",
       "      <td>Collège privé Saint Joseph</td>\n",
       "      <td>Privé</td>\n",
       "      <td>14  RUE BARLA, 06300 Nice</td>\n",
       "      <td>Nice</td>\n",
       "      <td>COLLEGE</td>\n",
       "      <td>Nice</td>\n",
       "      <td>POINT (7.28292 43.70167)</td>\n",
       "      <td>76</td>\n",
       "    </tr>\n",
       "    <tr>\n",
       "      <th>162</th>\n",
       "      <td>Ecole élémentaire Papon</td>\n",
       "      <td>Public</td>\n",
       "      <td>6 rue Papon, 06300 Nice</td>\n",
       "      <td>Nice</td>\n",
       "      <td>ECOLE PRIMAIRE</td>\n",
       "      <td>Nice</td>\n",
       "      <td>POINT (7.28155 43.70159)</td>\n",
       "      <td>93</td>\n",
       "    </tr>\n",
       "    <tr>\n",
       "      <th>128</th>\n",
       "      <td>Ecole maternelle Papon</td>\n",
       "      <td>Public</td>\n",
       "      <td>4 rue Boyer, 06300 Nice</td>\n",
       "      <td>Nice</td>\n",
       "      <td>ECOLE MATERNELLE</td>\n",
       "      <td>Nice</td>\n",
       "      <td>POINT (7.28166 43.70132)</td>\n",
       "      <td>100</td>\n",
       "    </tr>\n",
       "  </tbody>\n",
       "</table>\n",
       "</div>"
      ],
      "text/plain": [
       "                                appellation_officielle  \\\n",
       "178                 Ecole primaire privée Saint Joseph   \n",
       "19   Lycée général et technologique privé Saint Joseph   \n",
       "169                         Collège privé Saint Joseph   \n",
       "162                            Ecole élémentaire Papon   \n",
       "128                             Ecole maternelle Papon   \n",
       "\n",
       "    secteur_public_prive_libe                adresse_uai libelle_commune  \\\n",
       "178                     Privé   14 rue Barla, 06300 Nice            Nice   \n",
       "19                      Privé  14  RUE BARLA, 06300 Nice            Nice   \n",
       "169                     Privé  14  RUE BARLA, 06300 Nice            Nice   \n",
       "162                    Public    6 rue Papon, 06300 Nice            Nice   \n",
       "128                    Public    4 rue Boyer, 06300 Nice            Nice   \n",
       "\n",
       "      nature_uai_libe libelle_academie                  geometry  distance  \n",
       "178    ECOLE PRIMAIRE             Nice  POINT (7.28258 43.70187)        33  \n",
       "19              LYCEE             Nice  POINT (7.28275 43.70176)        55  \n",
       "169           COLLEGE             Nice  POINT (7.28292 43.70167)        76  \n",
       "162    ECOLE PRIMAIRE             Nice  POINT (7.28155 43.70159)        93  \n",
       "128  ECOLE MATERNELLE             Nice  POINT (7.28166 43.70132)       100  "
      ]
     },
     "execution_count": 5,
     "metadata": {},
     "output_type": "execute_result"
    }
   ],
   "source": [
    "df.head()"
   ]
  },
  {
   "cell_type": "code",
   "execution_count": 17,
   "id": "dd2b7f19-faaa-4dce-b1c3-7499b8bc5d32",
   "metadata": {},
   "outputs": [
    {
     "name": "stdout",
     "output_type": "stream",
     "text": [
      "6.43 ms ± 254 µs per loop (mean ± std. dev. of 7 runs, 100 loops each)\n"
     ]
    }
   ],
   "source": [
    "%timeit geodictecole = df.to_geo_dict() # Utile pour store dans les dcc.store de dash"
   ]
  },
  {
   "cell_type": "code",
   "execution_count": 16,
   "id": "37caa3c6-8cce-40ac-9dd0-0c082fb4e6b2",
   "metadata": {},
   "outputs": [
    {
     "name": "stdout",
     "output_type": "stream",
     "text": [
      "2.83 ms ± 250 µs per loop (mean ± std. dev. of 7 runs, 100 loops each)\n"
     ]
    }
   ],
   "source": [
    "%timeit gdf = gpd.GeoDataFrame.from_features(geodictecole) # manière de lire le dcc.store facilement"
   ]
  },
  {
   "cell_type": "code",
   "execution_count": null,
   "id": "c8ab181b-1e1a-4a0b-873f-b9969607b298",
   "metadata": {},
   "outputs": [],
   "source": []
  }
 ],
 "metadata": {
  "kernelspec": {
   "display_name": "Python 3 (ipykernel)",
   "language": "python",
   "name": "python3"
  },
  "language_info": {
   "codemirror_mode": {
    "name": "ipython",
    "version": 3
   },
   "file_extension": ".py",
   "mimetype": "text/x-python",
   "name": "python",
   "nbconvert_exporter": "python",
   "pygments_lexer": "ipython3",
   "version": "3.12.3"
  }
 },
 "nbformat": 4,
 "nbformat_minor": 5
}
