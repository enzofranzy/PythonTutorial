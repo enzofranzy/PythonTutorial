{
 "cells": [
  {
   "cell_type": "code",
   "execution_count": null,
   "id": "0483611a-f845-4802-9718-ab85edbd8252",
   "metadata": {},
   "outputs": [],
   "source": [
    "#### Dans ce programme ####\n",
    "# On va cherche pour une région à faire le classement des meilleurs investissements immobilier depuis 2019 #"
   ]
  },
  {
   "cell_type": "code",
   "execution_count": 75,
   "id": "6b090de0-0fd6-4fa9-b808-6439bc7a6715",
   "metadata": {
    "execution": {
     "iopub.execute_input": "2023-11-13T09:41:15.061795Z",
     "iopub.status.busy": "2023-11-13T09:41:15.061795Z",
     "iopub.status.idle": "2023-11-13T09:41:15.079144Z",
     "shell.execute_reply": "2023-11-13T09:41:15.077522Z",
     "shell.execute_reply.started": "2023-11-13T09:41:15.061795Z"
    }
   },
   "outputs": [],
   "source": [
    "# Fonctions utiles\n",
    "def dlldvfdepartement(departement_name): # Fonction pour telecharger le dvf du département selectionné en figdep\n",
    "    codedepartement = liste_departement.loc[liste_departement[\"nom_departement\"]==departement_name,\"code\"].value_counts().keys()[0]\n",
    "    try:\n",
    "        dvf = pd.read_csv(f\"https://github.com/enzofranzy/DVF-dash-plotly/blob/main/dvf_id_total/{codedepartement}ret_id_total.csv.xz?raw=true\", compression='xz') # Telechargement du dvf directement sur GITHUB en .csv.xz\n",
    "        dvf['code_departement'] = dvf['code_departement'].astype('str')\n",
    "        dvf['code_commune'] = dvf['code_commune'].astype('str')\n",
    "        dvf['code_departement'] = dvf['code_departement'].str.zfill(2) # nous voulons que chaque code de département ait deux caractères, donc nous allons utiliser zfill(2) pour ajouter un \"0\" devant les valeurs qui n'en ont qu'un\n",
    "        dvf['code_commune'] = dvf['code_commune'].str.zfill(5)\n",
    "        dvf[\"code_commune_fig_commune\"] = dvf['code_commune'] # Création de la colonne code_commune_fig_commune\n",
    "        dvf[\"section\"] = dvf[\"id_parcelle\"].str.slice(0, 10) # Corrige la colonne section car erreur fichier source => Correction faite sur Download_DVFbyRegion => lignes inutiles\n",
    "        dvf[\"Nombre_Dépendance\"] = dvf[\"Nombre_Dépendance\"].fillna(0) #Corrige la colonne Nombre_dépendance pour éviter les erreurs ensuite\n",
    "        dvf[\"Nombre_Maison\"] = dvf[\"Nombre_Maison\"].fillna(0) #Corrige la colonne Nombre_dépendance pour éviter les erreurs ensuite\n",
    "        dvf[\"Nombre_Appartement\"] = dvf[\"Nombre_Appartement\"].fillna(0) #Corrige la colonne Nombre_dépendance pour éviter les erreurs ensuite\n",
    "        dvf[\"Nombre_Local industriel. commercial ou assimilé\"] = dvf[\"Nombre_Local industriel. commercial ou assimilé\"].fillna(0) #Corrige la colonne Nombre_dépendance pour éviter les erreurs ensuite\n",
    "        # Traitement des Villes à arrondissements\n",
    "        if codedepartement == \"13\":\n",
    "            dvf['nom_commune'] = dvf['nom_commune'].str.replace(r'Marseille (1er|2e|3e|4e|5e|6e|7e|8e|9e|10e|11e|12e|13e|14e|15e|16e) Arrondissement', 'Marseille', regex=True)\n",
    "            L = [\"13201\",\"13202\",\"13203\",\"13204\",\"13205\",\"13206\",\"13207\",\"13208\",\"13209\",\"13210\",\"13211\",\"13212\",\"13213\",\"13214\",\"13215\",\"13216\"] # Arrondissements Marseille \n",
    "            dvf[\"code_commune_fig_commune\"] = dvf[\"code_commune\"].replace(L,\"13055\")\n",
    "        elif codedepartement == \"69\":\n",
    "            dvf['nom_commune'] = dvf['nom_commune'].str.replace(r'Lyon (1er|2e|3e|4e|5e|6e|7e|8e|9e) Arrondissement', 'Lyon', regex=True)\n",
    "            L = [\"69381\",\"69382\",\"69383\",\"69384\",\"69385\",\"69386\",\"69387\",\"69388\",\"69389\"] # Lyon\n",
    "            dvf[\"code_commune_fig_commune\"] = dvf[\"code_commune\"].replace(L,\"69123\")\n",
    "        elif codedepartement == \"75\":\n",
    "            dvf['nom_commune'] = dvf['nom_commune'].str.replace(r'Paris (1er|2e|3e|4e|5e|6e|7e|8e|9e|10e|11e|12e|13e|14e|15e|16e|17e|18e|19e|20e) Arrondissement', 'Paris', regex=True)\n",
    "            L = [\"75101\",\"75102\",\"75103\",\"75104\",\"75105\",\"75106\",\"75107\",\"75108\",\"75109\",\"75110\",\"75111\",\"75112\",\"75113\",\"75114\",\"75115\",\"75116\",\"75117\",\"75118\",\"75119\",\"75120\"]\n",
    "            dvf[\"code_commune_fig_commune\"] = dvf[\"code_commune\"].replace(L,\"75056\")\n",
    "    except:\n",
    "        print(f\"Il est impossible de télécharger le dvf pour ce departement {departement_name}\")\n",
    "        dvf = \"\"\n",
    "    return dvf"
   ]
  },
  {
   "cell_type": "code",
   "execution_count": 76,
   "id": "731f4aee-2455-4c1b-8e3e-a0e7f9616786",
   "metadata": {
    "execution": {
     "iopub.execute_input": "2023-11-13T09:41:16.132605Z",
     "iopub.status.busy": "2023-11-13T09:41:16.131618Z",
     "iopub.status.idle": "2023-11-13T09:41:17.926031Z",
     "shell.execute_reply": "2023-11-13T09:41:17.926031Z",
     "shell.execute_reply.started": "2023-11-13T09:41:16.132605Z"
    }
   },
   "outputs": [],
   "source": [
    "# Importations des modules (library)\n",
    "import pandas as pd # pip install pandas\n",
    "import gc\n",
    "import requests # pip install requests\n",
    "import json\n",
    "\n",
    "# Telechargement de liste_departement\n",
    "liste_departement = pd.read_csv(\"https://raw.githubusercontent.com/enzofranzy/DVF-dash-plotly/main/departements-france.csv\").drop(columns=[\"Unnamed: 0\"]).rename(columns={\"code_departement\":\"code\"})"
   ]
  },
  {
   "cell_type": "code",
   "execution_count": 77,
   "id": "9bae6598-aa7a-4703-8399-214ece1b2ea9",
   "metadata": {
    "execution": {
     "iopub.execute_input": "2023-11-13T09:41:17.926031Z",
     "iopub.status.busy": "2023-11-13T09:41:17.926031Z",
     "iopub.status.idle": "2023-11-13T09:41:17.951519Z",
     "shell.execute_reply": "2023-11-13T09:41:17.951519Z",
     "shell.execute_reply.started": "2023-11-13T09:41:17.926031Z"
    }
   },
   "outputs": [
    {
     "data": {
      "text/plain": [
       "array(['Auvergne-Rhône-Alpes', 'Hauts-de-France',\n",
       "       \"Provence-Alpes-Côte d'Azur\", 'Grand Est', 'Occitanie',\n",
       "       'Normandie', 'Nouvelle-Aquitaine', 'Centre-Val de Loire',\n",
       "       'Bourgogne-Franche-Comté', 'Bretagne', 'Corse', 'Pays de la Loire',\n",
       "       'Île-de-France'], dtype=object)"
      ]
     },
     "execution_count": 77,
     "metadata": {},
     "output_type": "execute_result"
    }
   ],
   "source": [
    "# Affiche la liste des nom_région de France\n",
    "liste_departement[\"nom_region\"].unique()"
   ]
  },
  {
   "cell_type": "code",
   "execution_count": 78,
   "id": "914ef116-1eb5-4854-ae4b-4b7d6f6695e2",
   "metadata": {
    "execution": {
     "iopub.execute_input": "2023-11-13T09:41:18.179883Z",
     "iopub.status.busy": "2023-11-13T09:41:18.179883Z",
     "iopub.status.idle": "2023-11-13T09:41:18.197043Z",
     "shell.execute_reply": "2023-11-13T09:41:18.195049Z",
     "shell.execute_reply.started": "2023-11-13T09:41:18.179883Z"
    }
   },
   "outputs": [],
   "source": [
    "# Définit la région étudiée\n",
    "region = \"Provence-Alpes-Côte d'Azur\"\n",
    "list_dep = list(liste_departement[liste_departement[\"nom_region\"]==region][\"nom_departement\"].unique()) # liste les codes departements de la région"
   ]
  },
  {
   "cell_type": "code",
   "execution_count": 79,
   "id": "909c9ee3-078c-4fb7-a73c-68b1b7e5567b",
   "metadata": {
    "execution": {
     "iopub.execute_input": "2023-11-13T09:41:22.718481Z",
     "iopub.status.busy": "2023-11-13T09:41:22.718481Z",
     "iopub.status.idle": "2023-11-13T09:41:56.332397Z",
     "shell.execute_reply": "2023-11-13T09:41:56.332397Z",
     "shell.execute_reply.started": "2023-11-13T09:41:22.718481Z"
    }
   },
   "outputs": [],
   "source": [
    "# Programme compilant les datas dans une variable dvfglobal\n",
    "for i in range (0,len(list_dep)):\n",
    "    dvf = dlldvfdepartement(list_dep[i])\n",
    "    if i==0:\n",
    "        dvfglobal = dvf\n",
    "    else:\n",
    "        dvfglobal = pd.concat([dvfglobal,dvf])"
   ]
  },
  {
   "cell_type": "code",
   "execution_count": 80,
   "id": "a90e1328-29ee-43fb-a832-348bc6eb3313",
   "metadata": {
    "execution": {
     "iopub.execute_input": "2023-11-13T09:41:56.332397Z",
     "iopub.status.busy": "2023-11-13T09:41:56.332397Z",
     "iopub.status.idle": "2023-11-13T09:41:57.201555Z",
     "shell.execute_reply": "2023-11-13T09:41:57.199480Z",
     "shell.execute_reply.started": "2023-11-13T09:41:56.332397Z"
    }
   },
   "outputs": [],
   "source": [
    "# on cherche uniquement les appartements\n",
    "dvfglobal[\"annee\"] = dvfglobal[\"annee\"].astype('str')\n",
    "dvfglobal = dvfglobal[dvfglobal[\"Nombre_Appartement\"]>0]\n",
    "dvfglobal = dvfglobal[(dvfglobal[\"Nombre_Local industriel. commercial ou assimilé\"]==0) & (dvfglobal[\"Nombre_Maison\"]==0)]"
   ]
  },
  {
   "cell_type": "code",
   "execution_count": 81,
   "id": "5da7f2fc-c54f-4a17-a189-a7eda5d27370",
   "metadata": {
    "execution": {
     "iopub.execute_input": "2023-11-13T09:41:57.201555Z",
     "iopub.status.busy": "2023-11-13T09:41:57.201555Z",
     "iopub.status.idle": "2023-11-13T09:41:57.668657Z",
     "shell.execute_reply": "2023-11-13T09:41:57.666661Z",
     "shell.execute_reply.started": "2023-11-13T09:41:57.201555Z"
    }
   },
   "outputs": [
    {
     "data": {
      "text/plain": [
       "141"
      ]
     },
     "execution_count": 81,
     "metadata": {},
     "output_type": "execute_result"
    }
   ],
   "source": [
    "# Construction des tables pour affichage\n",
    "tcd_typelocal = pd.pivot_table(dvfglobal, values='prixM2',index=['nom_commune','code_commune_fig_commune'],columns='annee',aggfunc={'prixM2': 'median'}, fill_value=0).reset_index()\n",
    "tcd_typelocal[\"prixM2_moyen\"] = (tcd_typelocal[\"2019\"] + tcd_typelocal[\"2020\"] + tcd_typelocal[\"2021\"] + tcd_typelocal[\"2022\"] + tcd_typelocal[\"2023\"])/5\n",
    "tcd_typelocal1 = pd.pivot_table(dvfglobal, values='id_mutation',index=['nom_commune','code_commune_fig_commune'],columns='annee',aggfunc={'id_mutation': 'count'}, fill_value=0).reset_index()\n",
    "tcd_typelocal1[\"Nb biens vendus\"] = (tcd_typelocal1[\"2019\"] + tcd_typelocal1[\"2020\"] + tcd_typelocal1[\"2021\"] + tcd_typelocal1[\"2022\"] + tcd_typelocal1[\"2023\"])\n",
    "tcd_typelocal = pd.merge(tcd_typelocal,tcd_typelocal1,on=['nom_commune','code_commune_fig_commune'],how='left')\n",
    "\n",
    "# filtre sur le nombre de biens vendus pour avoir un minimum de certitudes sur les données\n",
    "tcd_typelocal = tcd_typelocal[tcd_typelocal[\"Nb biens vendus\"]>100]\n",
    "tcd_typelocal[\"% Evolution depuis 2019\"] = 100*(tcd_typelocal[\"2023_x\"]-tcd_typelocal[\"2019_x\"])/tcd_typelocal[\"2023_x\"]\n",
    "tcd_typelocal[\"% Evolution entre 2022 & 2023\"] = 100*(tcd_typelocal[\"2023_x\"]-tcd_typelocal[\"2022_x\"])/tcd_typelocal[\"2022_x\"]\n",
    "del tcd_typelocal1 ; gc.collect()"
   ]
  },
  {
   "cell_type": "code",
   "execution_count": 82,
   "id": "20bc10e8-a832-4772-b446-de5d27fca47d",
   "metadata": {
    "execution": {
     "iopub.execute_input": "2023-11-13T09:41:57.671208Z",
     "iopub.status.busy": "2023-11-13T09:41:57.670074Z",
     "iopub.status.idle": "2023-11-13T09:41:57.919403Z",
     "shell.execute_reply": "2023-11-13T09:41:57.916896Z",
     "shell.execute_reply.started": "2023-11-13T09:41:57.671208Z"
    }
   },
   "outputs": [],
   "source": [
    "# filtre \n",
    "df_ = tcd_typelocal.sort_values(\"% Evolution depuis 2019\",ascending=False).reset_index().drop(columns=[\"index\"]) # permet de selectionner les villes de grande taille au moins x ventes par ville\n",
    "df_.to_excel(f\"EvolutionprixM2depuis2019{region}.xlsx\")"
   ]
  },
  {
   "cell_type": "code",
   "execution_count": null,
   "id": "0defc2ae-9049-4c05-b7c1-2344ea1ed67c",
   "metadata": {},
   "outputs": [],
   "source": []
  }
 ],
 "metadata": {
  "kernelspec": {
   "display_name": "Python 3 (ipykernel)",
   "language": "python",
   "name": "python3"
  },
  "language_info": {
   "codemirror_mode": {
    "name": "ipython",
    "version": 3
   },
   "file_extension": ".py",
   "mimetype": "text/x-python",
   "name": "python",
   "nbconvert_exporter": "python",
   "pygments_lexer": "ipython3",
   "version": "3.9.0"
  }
 },
 "nbformat": 4,
 "nbformat_minor": 5
}
