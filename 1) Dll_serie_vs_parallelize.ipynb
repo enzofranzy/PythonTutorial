{
 "cells": [
  {
   "cell_type": "code",
   "execution_count": 2,
   "id": "2df3fef7-de4f-4893-90ef-2685036df9cf",
   "metadata": {
    "execution": {
     "iopub.execute_input": "2023-10-18T12:48:58.733677Z",
     "iopub.status.busy": "2023-10-18T12:48:58.733677Z",
     "iopub.status.idle": "2023-10-18T12:48:58.749554Z",
     "shell.execute_reply": "2023-10-18T12:48:58.748532Z",
     "shell.execute_reply.started": "2023-10-18T12:48:58.733677Z"
    }
   },
   "outputs": [],
   "source": [
    "def dllliste_departement(): # Fonction pour telecharger la liste des departements\n",
    "    try:\n",
    "        liste_departement = pd.read_csv(\"https://raw.githubusercontent.com/enzofranzy/DVF-dash-plotly/main/departements-france.csv\").drop(columns=[\"Unnamed: 0\"]).rename(columns={\"code_departement\":\"code\"})\n",
    "    except:\n",
    "        liste_departement = \"Il est impossible de télécharger la liste des departements\"\n",
    "    return liste_departement"
   ]
  },
  {
   "cell_type": "code",
   "execution_count": 3,
   "id": "a79288ba-9b29-4fca-b7fd-55508d6a8712",
   "metadata": {
    "execution": {
     "iopub.execute_input": "2023-10-18T12:49:12.842819Z",
     "iopub.status.busy": "2023-10-18T12:49:12.841827Z",
     "iopub.status.idle": "2023-10-18T12:49:13.758005Z",
     "shell.execute_reply": "2023-10-18T12:49:13.756641Z",
     "shell.execute_reply.started": "2023-10-18T12:49:12.842819Z"
    }
   },
   "outputs": [],
   "source": [
    "liste_departement = dllliste_departement()"
   ]
  },
  {
   "cell_type": "code",
   "execution_count": 17,
   "id": "be9decd5-b50e-401d-b4ec-614d17024555",
   "metadata": {
    "execution": {
     "iopub.execute_input": "2023-10-18T13:22:35.187750Z",
     "iopub.status.busy": "2023-10-18T13:22:35.172282Z",
     "iopub.status.idle": "2023-10-18T13:22:55.388696Z",
     "shell.execute_reply": "2023-10-18T13:22:55.386995Z",
     "shell.execute_reply.started": "2023-10-18T13:22:35.187750Z"
    }
   },
   "outputs": [
    {
     "name": "stdout",
     "output_type": "stream",
     "text": [
      "Temps de calcul iter 0: 2.74 secondes\n",
      "Temps de calcul iter 1: 4.68 secondes\n",
      "Temps de calcul iter 2: 6.39 secondes\n",
      "Temps de calcul iter 3: 8.56 secondes\n",
      "Temps de calcul iter 4: 10.46 secondes\n",
      "Temps de calcul iter 5: 12.34 secondes\n",
      "Temps de calcul iter 6: 14.19 secondes\n",
      "Temps de calcul iter 7: 16.12 secondes\n",
      "Temps de calcul iter 8: 18.03 secondes\n",
      "Temps de calcul iter 9: 20.19 secondes\n"
     ]
    }
   ],
   "source": [
    "import concurrent.futures\n",
    "import requests\n",
    "import json\n",
    "import pandas as pd\n",
    "import time\n",
    "\n",
    "t0 = time.time()\n",
    "departement_name = \"Ain\"\n",
    "# Définissez la fonction que vous souhaitez exécuter en parallèle\n",
    "def dlldvfdepartement(departement_name):\n",
    "    codedepartement = liste_departement.loc[liste_departement[\"nom_departement\"]==departement_name,\"code\"].value_counts().keys()[0]\n",
    "    try:\n",
    "        dvf = pd.read_csv(f\"https://github.com/enzofranzy/DVF-dash-plotly/blob/main/{codedepartement}.csv.xz?raw=true\", compression='xz') # Telechargement du dvf directement sur GITHUB en .csv.xz\n",
    "    except:\n",
    "        dvf = f\"Il est impossible de télécharger le dvf pour ce departement {departement_name}\"\n",
    "    return dvf\n",
    "\n",
    "def dllgeojsondepartement(departement_name):\n",
    "    departementgeojson = liste_departement.loc[liste_departement[\"nom_departement\"]==departement_name,\"departement\"].value_counts().keys()[0]\n",
    "    urldepartementgeojson = f\"https://raw.githubusercontent.com/gregoiredavid/france-geojson/master/departements/{departementgeojson}/communes-{departementgeojson}.geojson\"\n",
    "    try:\n",
    "        response2 = json.loads(requests.get(urldepartementgeojson).text)\n",
    "    except:\n",
    "        response2 = f\"Il est impossible de télécharger le geojson pour ce departement {departement_name}\"\n",
    "    return response2\n",
    "\n",
    "for i in range(0,10):\n",
    "    with concurrent.futures.ThreadPoolExecutor() as executor:\n",
    "        # Exécutez les fonctions en parallèle\n",
    "        future1 = executor.submit(dlldvfdepartement, departement_name)\n",
    "        future2 = executor.submit(dllgeojsondepartement, departement_name)\n",
    "    \n",
    "        # Récupérez les résultats\n",
    "        dvf = future1.result()\n",
    "        response2 = future2.result()\n",
    "        \n",
    "    # Affichez les résultats si nécessaire\n",
    "    print(f\"Temps de calcul iter {i}: {round(time.time()-t0,2)} secondes\")"
   ]
  },
  {
   "cell_type": "code",
   "execution_count": 18,
   "id": "59c044b9-4626-4c2f-a1e5-678a63d63291",
   "metadata": {
    "execution": {
     "iopub.execute_input": "2023-10-18T13:24:16.962540Z",
     "iopub.status.busy": "2023-10-18T13:24:16.961573Z",
     "iopub.status.idle": "2023-10-18T13:24:42.026851Z",
     "shell.execute_reply": "2023-10-18T13:24:42.024875Z",
     "shell.execute_reply.started": "2023-10-18T13:24:16.962540Z"
    }
   },
   "outputs": [
    {
     "name": "stdout",
     "output_type": "stream",
     "text": [
      "Temps de calcul iter 0: 3.17 secondes\n",
      "Temps de calcul iter 1: 5.36 secondes\n",
      "Temps de calcul iter 2: 7.89 secondes\n",
      "Temps de calcul iter 3: 10.09 secondes\n",
      "Temps de calcul iter 4: 12.39 secondes\n",
      "Temps de calcul iter 5: 14.54 secondes\n",
      "Temps de calcul iter 6: 17.24 secondes\n",
      "Temps de calcul iter 7: 20.37 secondes\n",
      "Temps de calcul iter 8: 22.39 secondes\n",
      "Temps de calcul iter 9: 25.04 secondes\n"
     ]
    }
   ],
   "source": [
    "import concurrent.futures\n",
    "import requests\n",
    "import json\n",
    "import pandas as pd\n",
    "import time\n",
    "\n",
    "departement_name = \"Ain\"\n",
    "t0 = time.time()\n",
    "for i in range(0,10):\n",
    "    dvf = dlldvfdepartement(departement_name)\n",
    "    response2 = dllgeojsondepartement(departement_name)\n",
    "        \n",
    "    # Affichez les résultats si nécessaire\n",
    "    print(f\"Temps de calcul iter {i}: {round(time.time()-t0,2)} secondes\")"
   ]
  },
  {
   "cell_type": "code",
   "execution_count": null,
   "id": "207256db-7758-4560-9363-55ebb742c375",
   "metadata": {},
   "outputs": [],
   "source": []
  }
 ],
 "metadata": {
  "kernelspec": {
   "display_name": "Python 3 (ipykernel)",
   "language": "python",
   "name": "python3"
  },
  "language_info": {
   "codemirror_mode": {
    "name": "ipython",
    "version": 3
   },
   "file_extension": ".py",
   "mimetype": "text/x-python",
   "name": "python",
   "nbconvert_exporter": "python",
   "pygments_lexer": "ipython3",
   "version": "3.9.0"
  }
 },
 "nbformat": 4,
 "nbformat_minor": 5
}
