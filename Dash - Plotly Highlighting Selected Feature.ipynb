{
 "cells": [
  {
   "cell_type": "code",
   "execution_count": 35,
   "id": "4491b65f-e1ac-4b1a-aad5-1404f928baf5",
   "metadata": {},
   "outputs": [
    {
     "data": {
      "text/html": [
       "\n",
       "        <iframe\n",
       "            width=\"100%\"\n",
       "            height=\"650\"\n",
       "            src=\"http://127.0.0.1:8050/\"\n",
       "            frameborder=\"0\"\n",
       "            allowfullscreen\n",
       "            \n",
       "        ></iframe>\n",
       "        "
      ],
      "text/plain": [
       "<IPython.lib.display.IFrame at 0x24771c48ce0>"
      ]
     },
     "metadata": {},
     "output_type": "display_data"
    }
   ],
   "source": [
    "### Version Dash Leaflet - Highlighting a selected feature\n",
    "\n",
    "\"url = https://www.dash-leaflet.com/docs/geojson_tutorial\"\n",
    "\n",
    "import dash_leaflet as dl # pip install dash-leaflet\n",
    "from dash import Dash, Output, Input, State # pip install dash\n",
    "from dash_extensions.javascript import assign # pip install dash-extensions\n",
    "\n",
    "# Color selected state(s) red.\n",
    "style_handle = assign(\"\"\"function(feature, context){\n",
    "    const {selected} = context.hideout;\n",
    "    if(selected.includes(feature.properties.name)){\n",
    "        return {fillColor: 'red', color: 'grey'}\n",
    "    }\n",
    "    return {fillColor: 'grey', color: 'grey'}\n",
    "}\"\"\")\n",
    "# Create small example app.\n",
    "app = Dash()\n",
    "app.layout = dl.Map([\n",
    "    dl.TileLayer(),\n",
    "    dl.GeoJSON(url=\"https://raw.githubusercontent.com/PublicaMundi/MappingAPI/master/data/geojson/us-states.json\", zoomToBounds=True, id=\"geojson\",\n",
    "               hideout=dict(selected=[]), style=style_handle)\n",
    "], style={'height': '50vh'}, center=[56, 10], zoom=6)\n",
    "\n",
    "@app.callback(\n",
    "    Output(\"geojson\", \"hideout\"),\n",
    "    Input(\"geojson\", \"n_clicks\"),\n",
    "    State(\"geojson\", \"clickData\"),\n",
    "    State(\"geojson\", \"hideout\"),\n",
    "    prevent_initial_call=True)\n",
    "def toggle_select(_, feature, hideout):\n",
    "    selected = hideout[\"selected\"]\n",
    "    name = feature[\"properties\"][\"name\"]\n",
    "    if name in selected:\n",
    "        selected.remove(name)\n",
    "    else:\n",
    "        selected.append(name)\n",
    "    return hideout\n",
    "\n",
    "if __name__ == '__main__':\n",
    "    app.run_server()"
   ]
  },
  {
   "cell_type": "code",
   "execution_count": 38,
   "id": "928582ca-9dfc-4a4d-83d2-250ff9fdf679",
   "metadata": {},
   "outputs": [
    {
     "data": {
      "text/html": [
       "\n",
       "        <iframe\n",
       "            width=\"100%\"\n",
       "            height=\"650\"\n",
       "            src=\"http://127.0.0.1:8070/\"\n",
       "            frameborder=\"0\"\n",
       "            allowfullscreen\n",
       "            \n",
       "        ></iframe>\n",
       "        "
      ],
      "text/plain": [
       "<IPython.lib.display.IFrame at 0x2477142d1f0>"
      ]
     },
     "metadata": {},
     "output_type": "display_data"
    }
   ],
   "source": [
    "### Version Dash Plotly - Highlighting a selected feature\n",
    "from dash import Dash, Output, Input, State, dcc, no_update # pip install Dash\n",
    "from urllib.request import urlopen\n",
    "import geopandas as gpd # pip install geopandas\n",
    "import plotly.express as px # pip install plotly\n",
    "import json\n",
    "\n",
    "with urlopen('https://raw.githubusercontent.com/PublicaMundi/MappingAPI/master/data/geojson/us-states.json') as response:\n",
    "    gdf = gpd.GeoDataFrame.from_features(json.load(response))\n",
    "\n",
    "def create_figure_us_states(): # function to generate first figure\n",
    "    fig = px.choropleth_mapbox(gdf, \n",
    "                                geojson=gdf.geometry.__geo_interface__, \n",
    "                                locations=gdf.index,\n",
    "                                opacity = 0.3,\n",
    "                                hover_data =[\"name\",\"density\"],\n",
    "                                mapbox_style=\"open-street-map\",\n",
    "                                center={\"lat\": 39.2094813, \"lon\": -110.1607186},\n",
    "                                zoom=2)\n",
    "\n",
    "    fig.update_layout(margin={\"r\":0,\"t\":0,\"l\":0,\"b\":0})\n",
    "    fig.update_layout(showlegend=False)\n",
    "    fig.update_coloraxes(showscale=False)\n",
    "    return fig\n",
    "\n",
    "\n",
    "# Create small example app.\n",
    "app = Dash()\n",
    "app.layout = dcc.Graph(figure=create_figure_us_states(),config={'displayModeBar': False},id=\"map-country-us\",style={'height':'60vh','width':'100%'})\n",
    "\n",
    "# Create callback -- Highlighting a selected feature\n",
    "@app.callback(Output(\"map-country-us\", \"figure\",allow_duplicate=True),Input('map-country-us', 'clickData'),State('map-country-us','figure'),prevent_initial_call=True)\n",
    "def update_figure(click_data,figure):\n",
    "    if click_data is None:\n",
    "        return no_update\n",
    "\n",
    "    # Check if properties is in the dict or add it (Need it to create a geodataframe)\n",
    "    for feature in figure[\"data\"][0][\"geojson\"][\"features\"]:\n",
    "        if 'properties' in feature:\n",
    "            break\n",
    "        else:\n",
    "            feature.update({\"properties\":{}})\n",
    "\n",
    "    # Create the geodataframe gdf_\n",
    "    gdf_ = gpd.GeoDataFrame.from_features(figure[\"data\"][0][\"geojson\"][\"features\"]) # Column geometry\n",
    "\n",
    "    for i in range (0,len(figure[\"data\"][0][\"customdata\"])):\n",
    "        gdf_.loc[i,'density'] = figure[\"data\"][0][\"customdata\"][i][1] #Column Density\n",
    "        gdf_.loc[i,'name'] = figure[\"data\"][0][\"customdata\"][i][0] #Column Name\n",
    "    gdf_[\"color\"]=gpd.GeoDataFrame(figure[\"data\"][0][\"z\"]) #Column Color\n",
    "    \n",
    "    # Extract id of the country with a simple click #\n",
    "    country_id = click_data['points'][0]['location']\n",
    "    if gdf_.loc[country_id,'color'] == 0:\n",
    "        gdf_.loc[country_id,'color'] = 1\n",
    "    else:\n",
    "        gdf_.loc[country_id,'color'] = 0\n",
    "\n",
    "    # Create a new figure with gdf_\n",
    "    new_fig = px.choropleth_mapbox(gdf_,\n",
    "                                   geojson=gdf_.geometry.__geo_interface__,\n",
    "                                   locations=gdf_.index,\n",
    "                                   opacity = 0.3,\n",
    "                                   color = gdf_.color,\n",
    "                                   color_continuous_scale = ['red', 'blue'],\n",
    "                                   range_color = [0, 1],\n",
    "                                   hover_data =[\"name\",\"density\"],\n",
    "                                   mapbox_style=\"open-street-map\",\n",
    "                                   center={\"lat\": 39.2094813, \"lon\": -110.1607186},\n",
    "                                   zoom=2)\n",
    "    \n",
    "    new_fig.update_layout(margin={\"r\":0,\"t\":0,\"l\":0,\"b\":0})\n",
    "    new_fig.update_layout(showlegend=False)\n",
    "    new_fig.update_coloraxes(showscale=False)\n",
    "\n",
    "    return new_fig\n",
    "    \n",
    "### Run app ###\n",
    "if __name__=='__main__':\n",
    "    app.run_server(debug=True, port=8070)"
   ]
  },
  {
   "cell_type": "code",
   "execution_count": null,
   "id": "97597de4-ce39-49e4-8018-d0f0bd91fe14",
   "metadata": {},
   "outputs": [],
   "source": []
  }
 ],
 "metadata": {
  "kernelspec": {
   "display_name": "Python 3 (ipykernel)",
   "language": "python",
   "name": "python3"
  },
  "language_info": {
   "codemirror_mode": {
    "name": "ipython",
    "version": 3
   },
   "file_extension": ".py",
   "mimetype": "text/x-python",
   "name": "python",
   "nbconvert_exporter": "python",
   "pygments_lexer": "ipython3",
   "version": "3.12.3"
  }
 },
 "nbformat": 4,
 "nbformat_minor": 5
}
